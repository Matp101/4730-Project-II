{
 "cells": [
  {
   "cell_type": "code",
   "execution_count": 40,
   "metadata": {},
   "outputs": [],
   "source": [
    "import os\n",
    "import pandas as pd\n",
    "import sklearn"
   ]
  },
  {
   "cell_type": "code",
   "execution_count": 41,
   "metadata": {},
   "outputs": [
    {
     "name": "stdout",
     "output_type": "stream",
     "text": [
      "(50000, 2)\n",
      "positive    25000\n",
      "negative    25000\n",
      "Name: sentiment, dtype: int64\n"
     ]
    }
   ],
   "source": [
    "#import the data\n",
    "data = pd.read_csv(\"../res/Dataset.csv\")\n",
    "data.head(10)\n",
    "\n",
    "print(data.shape)\n",
    "print(data['sentiment'].value_counts())"
   ]
  },
  {
   "cell_type": "code",
   "execution_count": 42,
   "metadata": {},
   "outputs": [
    {
     "name": "stdout",
     "output_type": "stream",
     "text": [
      "(30000,) (30000,)\n",
      "Talk about your wild life. Barely a B-movie, but w  :  negative\n",
      "(20000,) (20000,)\n",
      "I really don't know why I agreed to watch this mov  :  negative\n"
     ]
    }
   ],
   "source": [
    "#suffle the data\n",
    "data = data.sample(frac=1).reset_index(drop=True)\n",
    "\n",
    "#split the data\n",
    "split = 30000\n",
    "\n",
    "train_reviews = data['review'][:split]\n",
    "train_sentiments = data['sentiment'][:split]\n",
    "\n",
    "test_reviews = data['review'][split:].reset_index(drop=True)\n",
    "test_sentiments = data['sentiment'][split:].reset_index(drop=True)\n",
    "\n",
    "\n",
    "print(train_reviews.shape, train_sentiments.shape)\n",
    "print(train_reviews[0][0:50],\" : \", train_sentiments[0])\n",
    "print(test_reviews.shape, test_sentiments.shape)\n",
    "print(test_reviews[0][0:50],\" : \", test_sentiments[0])"
   ]
  },
  {
   "cell_type": "code",
   "execution_count": null,
   "metadata": {},
   "outputs": [],
   "source": []
  }
 ],
 "metadata": {
  "kernelspec": {
   "display_name": "Python 3.10.4 64-bit",
   "language": "python",
   "name": "python3"
  },
  "language_info": {
   "codemirror_mode": {
    "name": "ipython",
    "version": 3
   },
   "file_extension": ".py",
   "mimetype": "text/x-python",
   "name": "python",
   "nbconvert_exporter": "python",
   "pygments_lexer": "ipython3",
   "version": "3.10.4"
  },
  "orig_nbformat": 4,
  "vscode": {
   "interpreter": {
    "hash": "8a39bfefecc0c1dd71a31c6d5d8b84450856eeb78b400ae14df063d473f20311"
   }
  }
 },
 "nbformat": 4,
 "nbformat_minor": 2
}
