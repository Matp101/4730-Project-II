{
 "cells": [
  {
   "cell_type": "code",
   "execution_count": null,
   "metadata": {},
   "outputs": [],
   "source": [
    "import os\n",
    "import pandas as pd\n",
    "import sklearn as sk\n",
    "from bs4 import BeautifulSoup\n",
    "import re,string,unicodedata\n",
    "import nltk \n",
    "nltk.download('stopwords')"
   ]
  },
  {
   "cell_type": "code",
   "execution_count": null,
   "metadata": {},
   "outputs": [],
   "source": [
    "#import the data\n",
    "data = pd.read_csv(\"../res/Dataset.csv\")\n",
    "data.head(10)\n",
    "\n",
    "print(data.shape)\n",
    "print(data['sentiment'].value_counts())\n"
   ]
  },
  {
   "cell_type": "code",
   "execution_count": null,
   "metadata": {},
   "outputs": [],
   "source": [
    "def cleanup(text):\n",
    "    # Remove html tags\n",
    "    text = BeautifulSoup(text, \"html.parser\").getText()\n",
    "    # Remove square brackets \n",
    "    text = re.sub('\\[[^]]*\\]', '', text)\n",
    "    # Remove special characters\n",
    "    text = re.sub('[^a-zA-Z0-9\\s]', '', text)\n",
    "    # Remove Stopwords\n",
    "    #text = text.lower().split()\n",
    "    # Stemming\n",
    "    ps = nltk.porter.PorterStemmer()\n",
    "    text= ' '.join([ps.stem(word) for word in text.split()])\n",
    "\n",
    "    return text\n",
    "    \n",
    "tokenizer = nltk.tokenize.toktok.ToktokTokenizer()\n",
    "data['review'] = data['review'].apply(cleanup)"
   ]
  },
  {
   "cell_type": "code",
   "execution_count": null,
   "metadata": {},
   "outputs": [],
   "source": [
    "stops = nltk.corpus.stopwords.words(\"english\")\n",
    "\n",
    "#removing the stopwords\n",
    "def remove_stopwords(text):\n",
    "    tokens = tokenizer.tokenize(text)\n",
    "    tokens = [token.strip() for token in tokens]\n",
    "    filtered_tokens = [token for token in tokens if token.lower() not in stops]\n",
    "    filtered_text = ' '.join(filtered_tokens)    \n",
    "    return filtered_text\n",
    "#Apply function on review column\n",
    "data['review'] = data['review'].apply(remove_stopwords)"
   ]
  },
  {
   "cell_type": "code",
   "execution_count": null,
   "metadata": {},
   "outputs": [],
   "source": [
    "#shuffle the data\n",
    "data_norm_shuffle = data.sample(frac=1).reset_index(drop=True)\n",
    "\n",
    "#split the data\n",
    "split = 30000\n",
    "\n",
    "train_reviews = data_norm_shuffle['review'][:split]\n",
    "train_sentiments = data_norm_shuffle['sentiment'][:split]\n",
    "\n",
    "test_reviews = data_norm_shuffle['review'][split:].reset_index(drop=True)\n",
    "test_sentiments = data_norm_shuffle['sentiment'][split:].reset_index(drop=True)\n",
    "\n",
    "\n",
    "print(train_reviews.shape, train_sentiments.shape)\n",
    "print(train_reviews[0][0:50],\" : \", train_sentiments[0])\n",
    "print(test_reviews.shape, test_sentiments.shape)\n",
    "print(test_reviews[0][0:50],\" : \", test_sentiments[0])"
   ]
  },
  {
   "cell_type": "code",
   "execution_count": null,
   "metadata": {},
   "outputs": [],
   "source": [
    "#Count vectorizer for bag of words\n",
    "cv = sk.feature_extraction.text.CountVectorizer(min_df=0, max_df=1, binary=False, ngram_range=(1,3))\n",
    "train_reviews_vector = cv.fit_transform(train_reviews)\n",
    "test_reviews_vector = cv.transform(test_reviews)\n",
    "\n",
    "print(train_reviews_vector.shape)\n",
    "print(test_reviews_vector.shape)"
   ]
  },
  {
   "cell_type": "code",
   "execution_count": null,
   "metadata": {},
   "outputs": [],
   "source": [
    "#Tfidf vectorizer\n",
    "tv = sk.feature_extraction.text.TfidfVectorizer(min_df=0, max_df=1, use_idf=True, ngram_range=(1,3))\n",
    "train_reviews_tvector = tv.fit_transform(train_reviews)\n",
    "test_reviews_tvector = tv.transform(test_reviews)\n",
    "\n",
    "print(train_reviews_tvector.shape)\n",
    "print(test_reviews_tvector.shape)"
   ]
  },
  {
   "cell_type": "code",
   "execution_count": null,
   "metadata": {},
   "outputs": [],
   "source": [
    "#vectorize the sentient data\n",
    "lb = sk.preprocessing.LabelBinarizer()\n",
    "train_sentiments_vector = lb.fit_transform(data_norm_shuffle['sentiment'])\n",
    "\n",
    "#split the data\n",
    "train_sentiments = train_sentiments_vector[:split]\n",
    "test_sentiments = train_sentiments_vector[split:]\n",
    "print(train_sentiments.shape)\n",
    "print(test_sentiments.shape)"
   ]
  },
  {
   "cell_type": "code",
   "execution_count": null,
   "metadata": {},
   "outputs": [],
   "source": [
    "def learingmethod(string, model, train_reviews_vector, train_sentiments, test_reviews_vector, test_sentiments):\n",
    "    model.fit(train_reviews_vector, train_sentiments)\n",
    "    predictions = model.predict(test_reviews_vector)\n",
    "    print(string)\n",
    "    print(\"Accuracy: \", sk.metrics.accuracy_score(test_sentiments, predictions))\n",
    "    print(\"Precision: \", sk.metrics.precision_score(test_sentiments, predictions))\n",
    "    print(\"Recall: \", sk.metrics.recall_score(test_sentiments, predictions))\n",
    "    print(\"F1: \", sk.metrics.f1_score(test_sentiments, predictions))\n",
    "    print(\"Confusion Matrix: \", sk.metrics.confusion_matrix(test_sentiments, predictions))\n",
    "    print(\"Classification Report: \", sk.metrics.classification_report(test_sentiments, predictions))"
   ]
  },
  {
   "cell_type": "code",
   "execution_count": null,
   "metadata": {},
   "outputs": [],
   "source": [
    "lr = sk.linear_model.LogisticRegression(penalty='l2', max_iter=500, C=1, solver='lbfgs', random_state=42)\n",
    "learingmethod(\"LinearRegression BOW\", lr, train_reviews_vector, train_sentiments, test_reviews_vector, test_sentiments)\n",
    "learingmethod(\"LinearRegression TFIDF\", lr, train_reviews_tvector, train_sentiments, test_reviews_tvector, test_sentiments)"
   ]
  },
  {
   "cell_type": "code",
   "execution_count": null,
   "metadata": {},
   "outputs": [],
   "source": [
    "svm = sk.linear_model.SGDClassifier(loss='hinge', max_iter=500, random_state=42)\n",
    "learingmethod(\"SGDClassifier BOW\", lr, train_reviews_vector, train_sentiments, test_reviews_vector, test_sentiments)\n",
    "learingmethod(\"SGDClassifier TFIDF\", lr, train_reviews_tvector, train_sentiments, test_reviews_tvector, test_sentiments)\n"
   ]
  },
  {
   "cell_type": "code",
   "execution_count": null,
   "metadata": {},
   "outputs": [],
   "source": [
    "mnb = sk.naive_bayes.GaussianNB()\n",
    "learingmethod(\"GaussianNB BOW\", lr, train_reviews_vector, train_sentiments, test_reviews_vector, test_sentiments)\n",
    "learingmethod(\"GaussianNB TFIDF\", lr, train_reviews_tvector, train_sentiments, test_reviews_tvector, test_sentiments)\n"
   ]
  }
 ],
 "metadata": {
  "kernelspec": {
   "display_name": "Python 3",
   "language": "python",
   "name": "python3"
  },
  "language_info": {
   "codemirror_mode": {
    "name": "ipython",
    "version": 3
   },
   "file_extension": ".py",
   "mimetype": "text/x-python",
   "name": "python",
   "nbconvert_exporter": "python",
   "pygments_lexer": "ipython3",
   "version": "3.10.9"
  },
  "orig_nbformat": 4,
  "vscode": {
   "interpreter": {
    "hash": "44102fab928a30fd9fc3692123612c99a2538c055ba532f349cb9707da8b0c0f"
   }
  }
 },
 "nbformat": 4,
 "nbformat_minor": 2
}
